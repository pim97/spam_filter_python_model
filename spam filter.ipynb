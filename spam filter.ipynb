{
 "cells": [
  {
   "cell_type": "code",
   "execution_count": 25,
   "metadata": {
    "scrolled": false
   },
   "outputs": [
    {
     "name": "stdout",
     "output_type": "stream",
     "text": [
      "5172 5172\n",
      "0.7091787439613526\n"
     ]
    },
    {
     "name": "stderr",
     "output_type": "stream",
     "text": [
      "C:\\Users\\pim\\Anaconda3\\lib\\site-packages\\sklearn\\linear_model\\logistic.py:433: FutureWarning: Default solver will be changed to 'lbfgs' in 0.22. Specify a solver to silence this warning.\n",
      "  FutureWarning)\n"
     ]
    },
    {
     "name": "stdout",
     "output_type": "stream",
     "text": [
      "0.7091787439613526\n"
     ]
    }
   ],
   "source": [
    "import os\n",
    "import collections\n",
    "from sklearn.naive_bayes import MultinomialNB\n",
    "from sklearn.model_selection import train_test_split as tts\n",
    "from sklearn.metrics import accuracy_score\n",
    "\n",
    "def text_array():\n",
    "    directory = \"enron1/enron1/emails/\"\n",
    "    emails_directory = os.listdir(directory)\n",
    "\n",
    "    all_paths_file_emails = [directory + email for email in emails_directory]\n",
    "\n",
    "    all_words = []\n",
    "    c = len(all_paths_file_emails)\n",
    "    for email in all_paths_file_emails:\n",
    "        f = open(email, errors='ignore')\n",
    "        text = f.read()\n",
    "        all_words += (text.split(\" \"))\n",
    "    #     print(c)\n",
    "        c -= 1\n",
    "    return all_words\n",
    "\n",
    "\n",
    "def most_common(all_words):\n",
    "    for i in range(len(all_words)):\n",
    "        if not str(all_words[i]).isalpha():\n",
    "            all_words[i] = \"\"\n",
    "\n",
    "    dictionary = collections.Counter(all_words)\n",
    "    del dictionary[\"\"]\n",
    "    return dictionary.most_common(3000)\n",
    "\n",
    "\n",
    "def make_dataset(dic):\n",
    "    directory = \"enron1/enron1/emails/\"\n",
    "    emails_directory = os.listdir(directory)\n",
    "\n",
    "    all_paths_file_emails = [directory + email for email in emails_directory]\n",
    "\n",
    "    c = len(all_paths_file_emails)\n",
    "    \n",
    "    labels = []\n",
    "    feature_set = []\n",
    "    for email in all_paths_file_emails:\n",
    "        data = []\n",
    "        f = open(email, errors='ignore')\n",
    "        text = f.read().split(\" \")\n",
    "        for entry in dic:\n",
    "            data.append(text.count(entry))\n",
    "        feature_set.append(data)\n",
    "        \n",
    "        if \"ham\" in email:\n",
    "            labels.append(0)\n",
    "        if \"spam\" in email:\n",
    "            labels.append(1)\n",
    "            \n",
    "        print(c)\n",
    "        c = c - 1\n",
    "    return feature_set, labels\n",
    "    \n",
    "    \n",
    "if __name__ == '__main__':\n",
    "    text = text_array()\n",
    "    dic = most_common(text)\n",
    "    features, labels = make_dataset(dic)\n"
   ]
  },
  {
   "cell_type": "code",
   "execution_count": 27,
   "metadata": {},
   "outputs": [
    {
     "name": "stdout",
     "output_type": "stream",
     "text": [
      "5172 5172\n",
      "0.702415458937198\n"
     ]
    },
    {
     "name": "stderr",
     "output_type": "stream",
     "text": [
      "C:\\Users\\pim\\Anaconda3\\lib\\site-packages\\sklearn\\linear_model\\logistic.py:433: FutureWarning: Default solver will be changed to 'lbfgs' in 0.22. Specify a solver to silence this warning.\n",
      "  FutureWarning)\n"
     ]
    },
    {
     "name": "stdout",
     "output_type": "stream",
     "text": [
      "0.702415458937198\n"
     ]
    }
   ],
   "source": [
    "    print(len(features), len(labels))\n",
    "    x_train, x_test, y_train, y_test = tts(features, labels, test_size=0.2)\n",
    "\n",
    "    clf = MultinomialNB()\n",
    "    clf.fit(x_train, y_train)\n",
    "    \n",
    "    preds = clf.predict(x_test)\n",
    "    print(accuracy_score(y_test, preds))\n",
    "    \n",
    "    from sklearn.linear_model import LogisticRegression\n",
    "    model = LogisticRegression()\n",
    "    model.fit(x_train, y_train)\n",
    "    \n",
    "    preds_logistic = model.predict(x_test)\n",
    "    print(accuracy_score(y_test, preds_logistic))\n",
    "    "
   ]
  },
  {
   "cell_type": "code",
   "execution_count": null,
   "metadata": {},
   "outputs": [],
   "source": []
  }
 ],
 "metadata": {
  "kernelspec": {
   "display_name": "Python 3",
   "language": "python",
   "name": "python3"
  },
  "language_info": {
   "codemirror_mode": {
    "name": "ipython",
    "version": 3
   },
   "file_extension": ".py",
   "mimetype": "text/x-python",
   "name": "python",
   "nbconvert_exporter": "python",
   "pygments_lexer": "ipython3",
   "version": "3.7.1"
  }
 },
 "nbformat": 4,
 "nbformat_minor": 2
}
